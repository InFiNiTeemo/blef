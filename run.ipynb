{
 "cells": [
  {
   "cell_type": "code",
   "execution_count": null,
   "metadata": {
    "_kg_hide-output": true,
    "execution": {
     "iopub.execute_input": "2022-05-24T07:29:59.311472Z",
     "iopub.status.busy": "2022-05-24T07:29:59.311164Z",
     "iopub.status.idle": "2022-05-24T07:32:18.391358Z",
     "shell.execute_reply": "2022-05-24T07:32:18.390055Z",
     "shell.execute_reply.started": "2022-05-24T07:29:59.311375Z"
    }
   },
   "outputs": [],
   "source": [
    "## setup\n",
    "## TODO: move all under bird2022wheels\n",
    "!pip install ../input/birds-inference-pip-wheels/torchaudio-0.8.1-cp37-cp37m-manylinux1_x86_64.whl ../input/birds-inference-pip-wheels/torch-1.8.1-cp37-cp37m-manylinux1_x86_64.whl\n",
    "!pip install ../input/birds-inference-pip-wheels/audiomentations-0.16.0-py3-none-any.whl --no-index --no-deps\n",
    "!pip install ../input/birds-inference-pip-wheels/torchlibrosa-0.0.9-py3-none-any.whl --no-index --no-deps\n",
    "!pip install ../input/birds2022wheels/nnAudio-0.3.1-py3-none-any.whl\n",
    "!cp -r ../input/timmlatest ../working/timmlatest\n",
    "!pip install -U ../working/timmlatest\n",
    "!rm -rf ../working/timmlatest"
   ]
  },
  {
   "cell_type": "code",
   "execution_count": 4,
   "metadata": {
    "execution": {
     "iopub.execute_input": "2022-05-24T07:32:18.395054Z",
     "iopub.status.busy": "2022-05-24T07:32:18.394781Z",
     "iopub.status.idle": "2022-05-24T07:32:18.403859Z",
     "shell.execute_reply": "2022-05-24T07:32:18.402778Z",
     "shell.execute_reply.started": "2022-05-24T07:32:18.395017Z"
    }
   },
   "outputs": [],
   "source": [
    "## https://github.com/Selimonder/birdclef2022/\n",
    "import os, sys, glob, math\n",
    "\n",
    "os.environ[\"MKL_NUM_THREADS\"] = \"1\"\n",
    "os.environ[\"OMP_NUM_THREADS\"] = \"1\"\n",
    "\n",
    "github_folder = \".\"\n",
    "sys.path.append(github_folder)"
   ]
  },
  {
   "cell_type": "code",
   "execution_count": 5,
   "metadata": {
    "execution": {
     "iopub.execute_input": "2022-05-24T07:32:18.439623Z",
     "iopub.status.busy": "2022-05-24T07:32:18.439152Z",
     "iopub.status.idle": "2022-05-24T07:32:26.893812Z",
     "shell.execute_reply": "2022-05-24T07:32:26.889825Z",
     "shell.execute_reply.started": "2022-05-24T07:32:18.439581Z"
    }
   },
   "outputs": [],
   "source": [
    "import cv2\n",
    "import gc\n",
    "import torch\n",
    "import librosa\n",
    "import argparse, warnings\n",
    "\n",
    "import numpy as np\n",
    "import pandas as pd\n",
    "import IPython.display as ipd\n",
    "\n",
    "import zoo\n",
    "from training.config import load_config\n",
    "from training.datasets import BirdDatasetOOF\n",
    "\n",
    "\n",
    "cv2.ocl.setUseOpenCL(False)\n",
    "cv2.setNumThreads(0)\n",
    "\n",
    "from tqdm import tqdm\n",
    "from torch.utils.data import DataLoader\n",
    "\n",
    "warnings.simplefilter(\"ignore\")"
   ]
  },
  {
   "cell_type": "markdown",
   "metadata": {},
   "source": [
    "## models"
   ]
  },
  {
   "cell_type": "code",
   "execution_count": null,
   "metadata": {},
   "outputs": [],
   "source": []
  },
  {
   "cell_type": "code",
   "execution_count": 15,
   "metadata": {
    "execution": {
     "iopub.execute_input": "2022-05-24T07:32:26.898111Z",
     "iopub.status.busy": "2022-05-24T07:32:26.897132Z",
     "iopub.status.idle": "2022-05-24T07:32:36.914216Z",
     "shell.execute_reply": "2022-05-24T07:32:36.913499Z",
     "shell.execute_reply.started": "2022-05-24T07:32:26.898067Z"
    }
   },
   "outputs": [
    {
     "name": "stdout",
     "output_type": "stream",
     "text": [
      "./weights/nfnet-baseline-bs16/nf0_v5_TimmClassifier_eca_nfnet_l0_0_lb\n",
      "initing CLS features model 15 duration...\n",
      "pretrained model...\n",
      "{'in_chans': 1, 'drop_path_rate': 0.2, 'drop_rate': 0.5}\n",
      "=> loading checkpoint './weights/nfnet-baseline-bs16/nf0_v5_TimmClassifier_eca_nfnet_l0_0_lb''\n",
      "epoch 18\n",
      "./weights/nfnet-baseline-bs16/nf0_v5_TimmClassifier_eca_nfnet_l0_1_lb\n",
      "initing CLS features model 15 duration...\n",
      "pretrained model...\n",
      "{'in_chans': 1, 'drop_path_rate': 0.2, 'drop_rate': 0.5}\n",
      "=> loading checkpoint './weights/nfnet-baseline-bs16/nf0_v5_TimmClassifier_eca_nfnet_l0_1_lb''\n",
      "epoch 14\n",
      "./weights/nfnet-baseline-bs16/nf0_v5_TimmClassifier_eca_nfnet_l0_2_lb\n",
      "initing CLS features model 15 duration...\n",
      "pretrained model...\n",
      "{'in_chans': 1, 'drop_path_rate': 0.2, 'drop_rate': 0.5}\n",
      "=> loading checkpoint './weights/nfnet-baseline-bs16/nf0_v5_TimmClassifier_eca_nfnet_l0_2_lb''\n",
      "epoch 15\n",
      "./weights/nfnet-baseline-bs16/nf0_v5_TimmClassifier_eca_nfnet_l0_3_lb\n",
      "initing CLS features model 15 duration...\n",
      "pretrained model...\n",
      "{'in_chans': 1, 'drop_path_rate': 0.2, 'drop_rate': 0.5}\n",
      "=> loading checkpoint './weights/nfnet-baseline-bs16/nf0_v5_TimmClassifier_eca_nfnet_l0_3_lb''\n",
      "epoch 9\n",
      "./weights/nfnet-baseline-bs16/nf0_v5_TimmClassifier_eca_nfnet_l0_4_lb\n",
      "initing CLS features model 15 duration...\n",
      "pretrained model...\n",
      "{'in_chans': 1, 'drop_path_rate': 0.2, 'drop_rate': 0.5}\n",
      "=> loading checkpoint './weights/nfnet-baseline-bs16/nf0_v5_TimmClassifier_eca_nfnet_l0_4_lb''\n",
      "epoch 3\n"
     ]
    }
   ],
   "source": [
    "def load_model(conf_path: str, weights_path: str, prefix: str, suffix: str, fold: int, to_device: bool = True):\n",
    "    conf = load_config(conf_path)\n",
    "    conf['encoder_params']['pretrained'] = False\n",
    "    \n",
    "    snapshot_name = \"{}{}_{}_{}_{}\".format(prefix, conf[\"network\"], conf[\"encoder_params\"][\"encoder\"], fold, suffix)\n",
    "    weights_path = os.path.join(weights_path, snapshot_name)\n",
    "    print(weights_path)\n",
    "    model = zoo.__dict__[conf[\"network\"]](**conf[\"encoder_params\"])\n",
    "    model = torch.nn.DataParallel(model).cuda()\n",
    "    print(\"=> loading checkpoint '{}''\".format(weights_path))\n",
    "    checkpoint = torch.load(weights_path, map_location=\"cpu\")\n",
    "    print(\"epoch\", checkpoint[\"epoch\"])\n",
    "    model.load_state_dict(checkpoint[\"state_dict\"])\n",
    "    model.eval()\n",
    "    if to_device: model.cuda()\n",
    "    return model\n",
    "\n",
    "models = []\n",
    "\n",
    "## best only for now\n",
    "suffixes = [\"lb\"]#, \"f1_score\" \"last\"]\n",
    "folds    = 5\n",
    "\n",
    "for i in range(folds):\n",
    "    for sx in suffixes:\n",
    "        try:\n",
    "            model = load_model(conf_path    = f\"{github_folder}/configs/cls_nf0_v5.json\",\n",
    "                               weights_path = f\"{github_folder}/weights/nfnet-baseline-bs16\",\n",
    "                               prefix       = \"nf0_v5_\",\n",
    "                               suffix       = sx,\n",
    "                               fold         = i)\n",
    "            models.append(model)\n",
    "        except Exception as e:\n",
    "            print(f\"model not found\", e)"
   ]
  },
  {
   "cell_type": "code",
   "execution_count": 17,
   "metadata": {
    "execution": {
     "iopub.execute_input": "2022-05-24T07:32:36.917136Z",
     "iopub.status.busy": "2022-05-24T07:32:36.91621Z",
     "iopub.status.idle": "2022-05-24T07:32:36.937547Z",
     "shell.execute_reply": "2022-05-24T07:32:36.936615Z",
     "shell.execute_reply.started": "2022-05-24T07:32:36.917094Z"
    }
   },
   "outputs": [
    {
     "data": {
      "text/plain": [
       "5"
      ]
     },
     "execution_count": 17,
     "metadata": {},
     "output_type": "execute_result"
    }
   ],
   "source": [
    "len(models)"
   ]
  },
  {
   "cell_type": "markdown",
   "metadata": {},
   "source": [
    "## infer"
   ]
  },
  {
   "cell_type": "code",
   "execution_count": 21,
   "metadata": {},
   "outputs": [],
   "source": [
    "CLASSES = \"abethr1 abhori1 abythr1 afbfly1 afdfly1 afecuc1 affeag1 afgfly1 afghor1 afmdov1 afpfly1 afpkin1 afpwag1 afrgos1 afrgrp1 afrjac1 afrthr1 amesun2 augbuz1 bagwea1 barswa bawhor2 bawman1 bcbeat1 beasun2 bkctch1 bkfruw1 blacra1 blacuc1 blakit1 blaplo1 blbpuf2 blcapa2 blfbus1 blhgon1 blhher1 blksaw1 blnmou1 blnwea1 bltapa1 bltbar1 bltori1 blwlap1 brcale1 brcsta1 brctch1 brcwea1 brican1 brobab1 broman1 brosun1 brrwhe3 brtcha1 brubru1 brwwar1 bswdov1 btweye2 bubwar2 butapa1 cabgre1 carcha1 carwoo1 categr ccbeat1 chespa1 chewea1 chibat1 chtapa3 chucis1 cibwar1 cohmar1 colsun2 combul2 combuz1 comsan crefra2 crheag1 crohor1 darbar1 darter3 didcuc1 dotbar1 dutdov1 easmog1 eaywag1 edcsun3 egygoo equaka1 eswdov1 eubeat1 fatrav1 fatwid1 fislov1 fotdro5 gabgos2 gargan gbesta1 gnbcam2 gnhsun1 gobbun1 gobsta5 gobwea1 golher1 grbcam1 grccra1 grecor greegr grewoo2 grwpyt1 gryapa1 grywrw1 gybfis1 gycwar3 gyhbus1 gyhkin1 gyhneg1 gyhspa1 gytbar1 hadibi1 hamerk1 hartur1 helgui hipbab1 hoopoe huncis1 hunsun2 joygre1 kerspa2 klacuc1 kvbsun1 laudov1 lawgol lesmaw1 lessts1 libeat1 litegr litswi1 litwea1 loceag1 lotcor1 lotlap1 luebus1 mabeat1 macshr1 malkin1 marsto1 marsun2 mcptit1 meypar1 moccha1 mouwag1 ndcsun2 nobfly1 norbro1 norcro1 norfis1 norpuf1 nubwoo1 pabspa1 palfly2 palpri1 piecro1 piekin1 pitwhy purgre2 pygbat1 quailf1 ratcis1 raybar1 rbsrob1 rebfir2 rebhor1 reboxp1 reccor reccuc1 reedov1 refbar2 refcro1 reftin1 refwar2 rehblu1 rehwea1 reisee2 rerswa1 rewsta1 rindov rocmar2 rostur1 ruegls1 rufcha2 sacibi2 sccsun2 scrcha1 scthon1 shesta1 sichor1 sincis1 slbgre1 slcbou1 sltnig1 sobfly1 somgre1 somtit4 soucit1 soufis1 spemou2 spepig1 spewea1 spfbar1 spfwea1 spmthr1 spwlap1 squher1 strher strsee1 stusta1 subbus1 supsta1 tacsun1 tafpri1 tamdov1 thrnig1 trobou1 varsun2 vibsta2 vilwea1 vimwea1 walsta1 wbgbir1 wbrcha2 wbswea1 wfbeat1 whbcan1 whbcou1 whbcro2 whbtit5 whbwea1 whbwhe3 whcpri2 whctur2 wheslf1 whhsaw1 whihel1 whrshr1 witswa1 wlwwar wookin1 woosan wtbeat1 yebapa1 yebbar1 yebduc1 yebere1 yebgre1 yebsto1 yeccan1 yefcan yelbis1 yenspu1 yertin1 yesbar1 yespet1 yetgre1 yewgre1\".split()\n",
    "N_CLASS = len(CLASSES)"
   ]
  },
  {
   "cell_type": "code",
   "execution_count": 22,
   "metadata": {
    "execution": {
     "iopub.execute_input": "2022-05-24T07:32:36.940932Z",
     "iopub.status.busy": "2022-05-24T07:32:36.940127Z",
     "iopub.status.idle": "2022-05-24T07:32:36.961547Z",
     "shell.execute_reply": "2022-05-24T07:32:36.960562Z",
     "shell.execute_reply.started": "2022-05-24T07:32:36.940888Z"
    }
   },
   "outputs": [],
   "source": [
    "\n",
    "def prepare_clip(fpath, frame_length, sample_rate):\n",
    "    \"\"\"\n",
    "    Prepare audio clip for inference\n",
    "    \"\"\"\n",
    "    infer_frame_length = frame_length\n",
    "    batch = {\"wav_tensors\": [], \"end_times\": []}\n",
    "    \n",
    "    waveform, sample_rate = librosa.load(fpath, sr=sample_rate, mono=True)\n",
    "    n_parts = math.ceil(len(waveform) / int(infer_frame_length * sample_rate))\n",
    "    \n",
    "    for seg_idx in range(n_parts): \n",
    "        end_time = (seg_idx + 1) * frame_length\n",
    "        seg_wav  = waveform[(end_time*sample_rate)-(sample_rate*frame_length):end_time*sample_rate]\n",
    "        \n",
    "        wav_tensor = torch.from_numpy(seg_wav)\n",
    "        \n",
    "        if len(wav_tensor) == frame_length * sample_rate:\n",
    "            batch[\"wav_tensors\"].append(wav_tensor.unsqueeze(0))\n",
    "        elif len(wav_tensor) < frame_length * sample_rate:\n",
    "            wav_tensor = torch.nn.functional.pad(wav_tensor, (0, (frame_length * sample_rate) - len(wav_tensor)))\n",
    "            batch[\"wav_tensors\"].append(wav_tensor.unsqueeze(0))\n",
    "        elif len(wav_tensor) > frame_length * sample_rate:\n",
    "            wav_tensor = wav_tensor[:(frame_length * sample_rate)]\n",
    "            batch[\"wav_tensors\"].append(wav_tensor.unsqueeze(0))\n",
    "            \n",
    "        batch[\"end_times\"].append(end_time)\n",
    "    batch[\"wav_tensors\"] = torch.stack(batch[\"wav_tensors\"]).cuda()\n",
    "    return batch, n_parts, len(waveform)\n",
    "\n",
    "@torch.no_grad()\n",
    "def predict_clip(models, batch, n_parts, frame_length):\n",
    "    preds = np.zeros([len(models), n_parts, N_CLASS])\n",
    "    for m_idx, model in enumerate(models):\n",
    "        with torch.cuda.amp.autocast():\n",
    "            preds[m_idx] = model(batch[\"wav_tensors\"], is_test=True)[\"logit\"].sigmoid().cpu().numpy()\n",
    "    return preds.max(0) ## max by model    \n",
    "    "
   ]
  },
  {
   "cell_type": "code",
   "execution_count": 23,
   "metadata": {
    "execution": {
     "iopub.execute_input": "2022-05-24T07:32:36.9649Z",
     "iopub.status.busy": "2022-05-24T07:32:36.963915Z",
     "iopub.status.idle": "2022-05-24T07:32:36.976477Z",
     "shell.execute_reply": "2022-05-24T07:32:36.975716Z",
     "shell.execute_reply.started": "2022-05-24T07:32:36.964859Z"
    }
   },
   "outputs": [
    {
     "data": {
      "text/plain": [
       "5"
      ]
     },
     "execution_count": 23,
     "metadata": {},
     "output_type": "execute_result"
    }
   ],
   "source": [
    "len(models)"
   ]
  },
  {
   "cell_type": "code",
   "execution_count": 30,
   "metadata": {
    "execution": {
     "iopub.execute_input": "2022-05-24T07:32:36.980232Z",
     "iopub.status.busy": "2022-05-24T07:32:36.978599Z",
     "iopub.status.idle": "2022-05-24T07:32:37.424085Z",
     "shell.execute_reply": "2022-05-24T07:32:37.423167Z",
     "shell.execute_reply.started": "2022-05-24T07:32:36.980114Z"
    }
   },
   "outputs": [
    {
     "name": "stdout",
     "output_type": "stream",
     "text": [
      "test file num: 1\n",
      "CPU times: user 710 ms, sys: 9.83 ms, total: 720 ms\n",
      "Wall time: 719 ms\n"
     ]
    }
   ],
   "source": [
    "%%time\n",
    "\n",
    "\n",
    "@torch.no_grad()\n",
    "def generate_preds():\n",
    "    debug = False\n",
    "    preds        = []\n",
    "    test_files   = sorted(glob.glob(\"/kaggle/input/birdclef-2023/test_soundscapes/*.ogg\")) \n",
    "    sample_rate  = 32000\n",
    "    \n",
    "    scored_birds = np.array(CLASSES)\n",
    "\n",
    "    frame_length = 5\n",
    "    infer_frame_length = 5\n",
    "\n",
    "    print(\"test file num:\", len(test_files))\n",
    "    for fpath in test_files:\n",
    "        file_id = os.path.basename(fpath).replace(\".ogg\", \"\")\n",
    "        batch, n_parts, len_waveform = prepare_clip(fpath, frame_length, sample_rate)\n",
    "        clip_preds = predict_clip(models, batch, n_parts, frame_length)\n",
    "        preds.append(clip_preds)\n",
    "        \n",
    "        ## switch to infer frame length\n",
    "        n_parts_sub = math.ceil(len_waveform / int(infer_frame_length * sample_rate))\n",
    "        clip_preds = np.array_split(clip_preds, n_parts_sub, axis=0)\n",
    "        \n",
    "                \n",
    "    prob_array = np.array(preds)\n",
    "    \n",
    "    scored_bird_name2idx = {}\n",
    "    for i, x in enumerate(scored_birds):\n",
    "        scored_bird_name2idx[x] = i\n",
    "\n",
    "    return prob_array, scored_bird_name2idx\n",
    "\n",
    "prob_array, scored_bird_name2idx = generate_preds()\n",
    "# del models\n",
    "# gc.collect()\n",
    "# torch.cuda.empty_cache()"
   ]
  },
  {
   "cell_type": "code",
   "execution_count": 27,
   "metadata": {
    "execution": {
     "iopub.execute_input": "2022-05-24T07:32:37.426326Z",
     "iopub.status.busy": "2022-05-24T07:32:37.425478Z",
     "iopub.status.idle": "2022-05-24T07:32:37.435498Z",
     "shell.execute_reply": "2022-05-24T07:32:37.434489Z",
     "shell.execute_reply.started": "2022-05-24T07:32:37.426281Z"
    }
   },
   "outputs": [
    {
     "data": {
      "text/plain": [
       "(1, 120, 264)"
      ]
     },
     "execution_count": 27,
     "metadata": {},
     "output_type": "execute_result"
    }
   ],
   "source": [
    "prob_array.shape"
   ]
  },
  {
   "cell_type": "markdown",
   "metadata": {},
   "source": [
    "----"
   ]
  },
  {
   "cell_type": "code",
   "execution_count": 28,
   "metadata": {
    "execution": {
     "iopub.execute_input": "2022-05-24T07:32:37.438021Z",
     "iopub.status.busy": "2022-05-24T07:32:37.437306Z",
     "iopub.status.idle": "2022-05-24T07:32:37.446866Z",
     "shell.execute_reply": "2022-05-24T07:32:37.445828Z",
     "shell.execute_reply.started": "2022-05-24T07:32:37.437961Z"
    }
   },
   "outputs": [
    {
     "name": "stdout",
     "output_type": "stream",
     "text": [
      "[Errno 2] No such file or directory: '/kaggle/input/birdnetgit'\n",
      "/home/mobius/code/kaggle/BLEF/rank1/birdclef-2022\n"
     ]
    }
   ],
   "source": [
    "%cd /kaggle/input/birdnetgit"
   ]
  },
  {
   "cell_type": "code",
   "execution_count": 29,
   "metadata": {
    "execution": {
     "iopub.execute_input": "2022-05-24T07:32:37.449962Z",
     "iopub.status.busy": "2022-05-24T07:32:37.449191Z",
     "iopub.status.idle": "2022-05-24T07:32:37.493709Z",
     "shell.execute_reply": "2022-05-24T07:32:37.492807Z",
     "shell.execute_reply.started": "2022-05-24T07:32:37.449807Z"
    }
   },
   "outputs": [
    {
     "ename": "ModuleNotFoundError",
     "evalue": "No module named 'config'",
     "output_type": "error",
     "traceback": [
      "\u001b[0;31m---------------------------------------------------------------------------\u001b[0m",
      "\u001b[0;31mModuleNotFoundError\u001b[0m                       Traceback (most recent call last)",
      "Cell \u001b[0;32mIn [29], line 16\u001b[0m\n\u001b[1;32m     12\u001b[0m \u001b[38;5;28;01mfrom\u001b[39;00m \u001b[38;5;21;01mmultiprocessing\u001b[39;00m \u001b[38;5;28;01mimport\u001b[39;00m Pool, freeze_support\n\u001b[1;32m     14\u001b[0m \u001b[38;5;28;01mimport\u001b[39;00m \u001b[38;5;21;01mnumpy\u001b[39;00m \u001b[38;5;28;01mas\u001b[39;00m \u001b[38;5;21;01mnp\u001b[39;00m\n\u001b[0;32m---> 16\u001b[0m \u001b[38;5;28;01mimport\u001b[39;00m \u001b[38;5;21;01mconfig\u001b[39;00m \u001b[38;5;28;01mas\u001b[39;00m \u001b[38;5;21;01mcfg\u001b[39;00m\n\u001b[1;32m     17\u001b[0m \u001b[38;5;28;01mimport\u001b[39;00m \u001b[38;5;21;01maudio\u001b[39;00m\n\u001b[1;32m     18\u001b[0m \u001b[38;5;28;01mimport\u001b[39;00m \u001b[38;5;21;01mmodel\u001b[39;00m\n",
      "\u001b[0;31mModuleNotFoundError\u001b[0m: No module named 'config'"
     ]
    }
   ],
   "source": [
    "import os\n",
    "import sys\n",
    "import json\n",
    "import math\n",
    "import glob\n",
    "import librosa\n",
    "import operator\n",
    "import argparse\n",
    "import datetime\n",
    "import traceback\n",
    "\n",
    "from multiprocessing import Pool, freeze_support\n",
    "\n",
    "import numpy as np\n",
    "\n",
    "import config as cfg\n",
    "import audio\n",
    "import model\n",
    "from analyze import *\n",
    "\n",
    "import pandas as pd\n",
    "import numpy as np"
   ]
  },
  {
   "cell_type": "code",
   "execution_count": null,
   "metadata": {
    "execution": {
     "iopub.execute_input": "2022-05-24T07:32:37.496216Z",
     "iopub.status.busy": "2022-05-24T07:32:37.49551Z",
     "iopub.status.idle": "2022-05-24T07:32:37.856202Z",
     "shell.execute_reply": "2022-05-24T07:32:37.855485Z",
     "shell.execute_reply.started": "2022-05-24T07:32:37.496087Z"
    }
   },
   "outputs": [],
   "source": [
    "df = pd.read_csv(\"../birdclef-2022/eBird_Taxonomy_v2021.csv\")\n",
    "s2id = lambda x: df[(df['PRIMARY_COM_NAME'] == x)].SPECIES_CODE.tolist()[0]\n",
    "\n",
    "cfg.MODEL_PATH = '/kaggle/input/birdnetgit/checkpoints/V2.1/BirdNET_GLOBAL_2K_V2.1_Model_FP32.tflite'\n",
    "cfg.MDATA_MODEL_PATH = '/kaggle/input/birdnetgit/checkpoints/V2.1/BirdNET_GLOBAL_2K_V2.1_MData_Model_FP32.tflite'\n",
    "cfg.LABELS_FILE = '/kaggle/input/birdnetgit/checkpoints/V2.1/BirdNET_GLOBAL_2K_V2.1_Labels.txt'\n",
    "cfg.TRANSLATED_LABELS_PATH = '/kaggle/input/birdnetgit/labels/V2.1'\n",
    "\n",
    "cfg.SIG_LENGTH = 5\n",
    "cfg.SIG_OVERLAP = 0 \n",
    "cfg.SIG_MINLEN = 5 \n",
    "\n",
    "# Load eBird codes, labels\n",
    "\n",
    "def loadCodes(CODEC_FILE):\n",
    "\n",
    "    with open(CODEC_FILE, 'r') as cfile:\n",
    "        codes = json.load(cfile)\n",
    "\n",
    "    return codes\n",
    "\n",
    "cfg.CODES = loadCodes(\"./eBird_taxonomy_codes_2021E.json\")\n",
    "def loadLabels(labels_file):\n",
    "\n",
    "    labels = []\n",
    "    with open(labels_file, 'r') as lfile:\n",
    "        for line in lfile.readlines():\n",
    "            labels.append(line.replace('\\n', ''))    \n",
    "\n",
    "    return labels\n",
    "\n",
    "def prepare_clip(fpath):\n",
    "    \"\"\"\n",
    "    Prepare audio clip for inference\n",
    "    \"\"\"\n",
    "    sample_rate = cfg.SAMPLE_RATE\n",
    "    frame_length = cfg.SIG_LENGTH\n",
    "    infer_frame_length = frame_length\n",
    "    \n",
    "    sample_rate = 48000\n",
    "    chunks = []\n",
    "    \n",
    "    waveform, sample_rate = librosa.load(fpath, sr=sample_rate, mono=True, res_type='kaiser_fast')\n",
    "    n_parts = math.ceil(len(waveform) / int(infer_frame_length * sample_rate))\n",
    "    \n",
    "    for seg_idx in range(n_parts): \n",
    "        end_time = (seg_idx + 1) * frame_length\n",
    "        chunk  = waveform[(end_time*sample_rate)-(sample_rate*frame_length):end_time*sample_rate]\n",
    "                \n",
    "        if len(chunk) == frame_length * sample_rate:\n",
    "            chunks.append(chunk)\n",
    "        elif len(chunk) < frame_length * sample_rate:\n",
    "            chunk = np.pad(chunk, (0, (frame_length * sample_rate) - len(chunk)))\n",
    "            chunks.append(chunk)\n",
    "        elif len(chunk) > frame_length * sample_rate:\n",
    "            chunk = chunk[:(frame_length * sample_rate)]\n",
    "            chunks.append(chunk)\n",
    "            \n",
    "    return chunks\n",
    "\n",
    "\n",
    "scored_birds = np.array(['akiapo', 'aniani', 'apapan', 'barpet', 'crehon', 'elepai', 'ercfra',\n",
    "                          'hawama', 'hawcre', 'hawgoo', 'hawhaw', 'hawpet1', 'houfin', 'iiwi',\n",
    "                          'jabwar', 'maupar', 'omao', 'puaioh', 'skylar', 'warwhe1', 'yefcan'])\n",
    "\n",
    "cfg.LABELS = loadLabels(cfg.LABELS_FILE)\n",
    "\n",
    "model.loadModel()\n",
    "\n"
   ]
  },
  {
   "cell_type": "code",
   "execution_count": null,
   "metadata": {
    "execution": {
     "iopub.execute_input": "2022-05-24T07:32:37.859112Z",
     "iopub.status.busy": "2022-05-24T07:32:37.85836Z",
     "iopub.status.idle": "2022-05-24T07:32:44.386605Z",
     "shell.execute_reply": "2022-05-24T07:32:44.385561Z",
     "shell.execute_reply.started": "2022-05-24T07:32:37.859065Z"
    }
   },
   "outputs": [],
   "source": [
    "bird_dict = {}\n",
    "for i, lb in enumerate(cfg.LABELS):\n",
    "    try:\n",
    "        lbb = s2id(lb.split(\"_\")[-1])\n",
    "        if lbb in scored_birds:\n",
    "            bird_dict[lbb] = i\n",
    "    except Exception as e:\n",
    "        continue\n",
    "    \n",
    "bird_dict[\"aniani\"] = 0\n",
    "\n",
    "sorted_bd = dict(sorted(bird_dict.items(), key=lambda item: item[0]))\n",
    "get_idx = list(sorted_bd.values())"
   ]
  },
  {
   "cell_type": "code",
   "execution_count": null,
   "metadata": {
    "execution": {
     "iopub.execute_input": "2022-05-24T07:32:44.392119Z",
     "iopub.status.busy": "2022-05-24T07:32:44.391255Z",
     "iopub.status.idle": "2022-05-24T07:32:44.400116Z",
     "shell.execute_reply": "2022-05-24T07:32:44.399344Z",
     "shell.execute_reply.started": "2022-05-24T07:32:44.392073Z"
    }
   },
   "outputs": [],
   "source": [
    "# def predict_single(test_path)\n",
    "\n",
    "def generate_preds_bn():\n",
    "    test_files   = sorted(glob.glob(\"/kaggle/input/birdclef-2022/test_soundscapes/*.ogg\"))\n",
    "    \n",
    "    preds = []\n",
    "    file_ids = []\n",
    "    \n",
    "    for fpath in test_files:\n",
    "        chunks = prepare_clip(fpath)\n",
    "        pred = predict(chunks)[:, get_idx]\n",
    "        preds.append(pred)\n",
    "        file_id = os.path.basename(fpath).replace(\".ogg\", \"\")\n",
    "        file_ids.append(file_id)\n",
    "        \n",
    "    preds = np.array(preds)\n",
    "    return preds, file_ids\n",
    "        "
   ]
  },
  {
   "cell_type": "code",
   "execution_count": null,
   "metadata": {
    "execution": {
     "iopub.execute_input": "2022-05-24T07:32:44.402843Z",
     "iopub.status.busy": "2022-05-24T07:32:44.402027Z",
     "iopub.status.idle": "2022-05-24T07:32:48.302119Z",
     "shell.execute_reply": "2022-05-24T07:32:48.301164Z",
     "shell.execute_reply.started": "2022-05-24T07:32:44.402789Z"
    }
   },
   "outputs": [],
   "source": [
    "%%time\n",
    "preds_bn, file_ids = generate_preds_bn()\n"
   ]
  },
  {
   "cell_type": "code",
   "execution_count": null,
   "metadata": {
    "execution": {
     "iopub.execute_input": "2022-05-24T07:32:48.30447Z",
     "iopub.status.busy": "2022-05-24T07:32:48.303571Z",
     "iopub.status.idle": "2022-05-24T07:32:48.31003Z",
     "shell.execute_reply": "2022-05-24T07:32:48.308744Z",
     "shell.execute_reply.started": "2022-05-24T07:32:48.304429Z"
    }
   },
   "outputs": [],
   "source": [
    "preds_bn[:, :, 1] = prob_array[:, :, 1]"
   ]
  },
  {
   "cell_type": "code",
   "execution_count": null,
   "metadata": {
    "execution": {
     "iopub.execute_input": "2022-05-24T07:33:55.262072Z",
     "iopub.status.busy": "2022-05-24T07:33:55.26178Z",
     "iopub.status.idle": "2022-05-24T07:33:55.268869Z",
     "shell.execute_reply": "2022-05-24T07:33:55.267989Z",
     "shell.execute_reply.started": "2022-05-24T07:33:55.262043Z"
    }
   },
   "outputs": [],
   "source": [
    "## fix aniani\n",
    "avg_preds = (2 * preds_bn + prob_array) / 3\n",
    "\n",
    "avg_preds.shape"
   ]
  },
  {
   "cell_type": "code",
   "execution_count": null,
   "metadata": {
    "execution": {
     "iopub.execute_input": "2022-05-24T07:48:12.292113Z",
     "iopub.status.busy": "2022-05-24T07:48:12.29143Z",
     "iopub.status.idle": "2022-05-24T07:48:12.300749Z",
     "shell.execute_reply": "2022-05-24T07:48:12.29853Z",
     "shell.execute_reply.started": "2022-05-24T07:48:12.292074Z"
    }
   },
   "outputs": [],
   "source": [
    "submission   = []\n",
    "infer_frame_length = 5\n",
    "threshold = 0.2\n",
    "\n",
    "for clip_preds, file_id in zip(avg_preds, file_ids):\n",
    "    for frame_idx, pred in enumerate(clip_preds):\n",
    "        end_time = (frame_idx + 1) * infer_frame_length\n",
    "        for bi, bird in enumerate(scored_birds):\n",
    "            submission.append({\n",
    "                \"row_id\": f\"{file_id}_{bird}_{end_time}\",\n",
    "                \"target\": pred[bi] > threshold,\n",
    "            })"
   ]
  },
  {
   "cell_type": "code",
   "execution_count": null,
   "metadata": {
    "execution": {
     "iopub.execute_input": "2022-05-24T07:48:12.457884Z",
     "iopub.status.busy": "2022-05-24T07:48:12.457092Z",
     "iopub.status.idle": "2022-05-24T07:48:12.465085Z",
     "shell.execute_reply": "2022-05-24T07:48:12.463594Z",
     "shell.execute_reply.started": "2022-05-24T07:48:12.457831Z"
    }
   },
   "outputs": [],
   "source": [
    "%cd /kaggle/working"
   ]
  },
  {
   "cell_type": "code",
   "execution_count": null,
   "metadata": {
    "execution": {
     "iopub.execute_input": "2022-05-24T07:48:12.641499Z",
     "iopub.status.busy": "2022-05-24T07:48:12.641186Z",
     "iopub.status.idle": "2022-05-24T07:48:12.653065Z",
     "shell.execute_reply": "2022-05-24T07:48:12.65214Z",
     "shell.execute_reply.started": "2022-05-24T07:48:12.641444Z"
    }
   },
   "outputs": [],
   "source": [
    "df_submission = pd.DataFrame(submission).set_index(\"row_id\")\n",
    "df_submission.to_csv(\"submission.csv\")"
   ]
  },
  {
   "cell_type": "code",
   "execution_count": null,
   "metadata": {
    "execution": {
     "iopub.execute_input": "2022-05-24T07:48:12.909956Z",
     "iopub.status.busy": "2022-05-24T07:48:12.909318Z",
     "iopub.status.idle": "2022-05-24T07:48:12.924891Z",
     "shell.execute_reply": "2022-05-24T07:48:12.92357Z",
     "shell.execute_reply.started": "2022-05-24T07:48:12.909915Z"
    }
   },
   "outputs": [],
   "source": [
    "print(f\"\"\"\n",
    "total rows : {len(df_submission)}\n",
    "activated  : {len(df_submission[(df_submission.target==True)])}\n",
    "\"\"\")\n",
    "\n",
    "df_submission[(df_submission.target==True)].head()"
   ]
  },
  {
   "cell_type": "code",
   "execution_count": null,
   "metadata": {},
   "outputs": [],
   "source": []
  },
  {
   "cell_type": "code",
   "execution_count": null,
   "metadata": {},
   "outputs": [],
   "source": []
  }
 ],
 "metadata": {
  "kernelspec": {
   "display_name": "Python 3 (ipykernel)",
   "language": "python",
   "name": "python3"
  },
  "language_info": {
   "codemirror_mode": {
    "name": "ipython",
    "version": 3
   },
   "file_extension": ".py",
   "mimetype": "text/x-python",
   "name": "python",
   "nbconvert_exporter": "python",
   "pygments_lexer": "ipython3",
   "version": "3.10.10"
  }
 },
 "nbformat": 4,
 "nbformat_minor": 4
}
